{
 "cells": [
  {
   "cell_type": "markdown",
   "id": "a9f2ef07-4766-41b4-8aa3-3e2a7cf8edbe",
   "metadata": {
    "tags": []
   },
   "source": [
    "# word counting"
   ]
  },
  {
   "cell_type": "code",
   "execution_count": 39,
   "id": "13752e25-ae01-4369-9fe4-fc95ea7d2452",
   "metadata": {
    "tags": []
   },
   "outputs": [],
   "source": [
    "import os, re\n",
    "from math import ceil"
   ]
  },
  {
   "cell_type": "code",
   "execution_count": 2,
   "id": "fbba03d0-e9c1-456f-a3a7-6620153c07cd",
   "metadata": {
    "tags": []
   },
   "outputs": [],
   "source": [
    "def list_files(pdir, file_type = \"\"):                                                                                                  \n",
    "    r = []                                           \n",
    "    subdirs = [x[0] for x in os.walk(pdir)]\n",
    "    for subdir in subdirs:              \n",
    "        files = next(os.walk(subdir))[2]                  \n",
    "        if (len(files) > 0):                                                        \n",
    "            for file in files:\n",
    "                if (len(file_type)):\n",
    "                    file_ext = \".\" + file_type\n",
    "                    if file.endswith(file_ext.lower()) or file.endswith(file_ext.upper())  :            \n",
    "                        r.append(subdir+ '\\\\' + file)\n",
    "                else:\n",
    "                    r.append(subdir+ '\\\\' + file)\n",
    "                    \n",
    "    return r"
   ]
  },
  {
   "cell_type": "code",
   "execution_count": 32,
   "id": "46d3968b-7125-4ca4-877d-d6382efdc8bc",
   "metadata": {
    "tags": []
   },
   "outputs": [],
   "source": [
    "#files = list_files(\"docs\\\\user_manual\", file_type = \"rst\") \n"
   ]
  },
  {
   "cell_type": "raw",
   "id": "630c93da-8a2f-480e-9c33-573be3ebb627",
   "metadata": {
    "tags": []
   },
   "source": [
    "# count words\n",
    "\n",
    "fname = files[0]\n",
    "\n",
    "num_lines = 0\n",
    "num_words = 0\n",
    "num_chars = 0\n",
    "for fname in files:\n",
    "    with open(fname, 'r') as f:\n",
    "        for line in f:\n",
    "            if line.startswith(\".. _\"):\n",
    "                continue\n",
    "            if line.startswith(\"   .. \"):\n",
    "                continue\n",
    "            if line.startswith(\"      :\"):\n",
    "                continue\n",
    "            if line.startswith(\"****\"):\n",
    "                continue\n",
    "            if line.startswith(\"----\"):\n",
    "                continue\n",
    "            if line.startswith(\"=====\"):\n",
    "                continue\n",
    "\n",
    "            if line.startswith(\":\"):\n",
    "                continue\n",
    "\n",
    "            words = line.split()\n",
    "\n",
    "            num_lines += 1\n",
    "            num_words += len(words)\n",
    "            num_chars += len(line)"
   ]
  },
  {
   "cell_type": "code",
   "execution_count": 44,
   "id": "77022a52-1642-4527-84a8-670e71871c53",
   "metadata": {
    "tags": []
   },
   "outputs": [
    {
     "name": "stdout",
     "output_type": "stream",
     "text": [
      "1 C:\\Users\\Kyaw Naing Win\\Desktop\\Articles_word_count\\Agriculture Band Combinations — Ove.txt 2\n",
      "2 C:\\Users\\Kyaw Naing Win\\Desktop\\Articles_word_count\\Atmospheric Penetration.txt 1\n",
      "3 C:\\Users\\Kyaw Naing Win\\Desktop\\Articles_word_count\\Atmospheric Removal.txt 1\n",
      "4 C:\\Users\\Kyaw Naing Win\\Desktop\\Articles_word_count\\Chlorophyll Index In Agriculture.txt 2\n",
      "5 C:\\Users\\Kyaw Naing Win\\Desktop\\Articles_word_count\\Color Infrared (Vegetation).txt 1\n",
      "6 C:\\Users\\Kyaw Naing Win\\Desktop\\Articles_word_count\\False Color Satellite Imagery.txt 2\n",
      "7 C:\\Users\\Kyaw Naing Win\\Desktop\\Articles_word_count\\Index Stack (NDVI, NDWI, NDSI).txt 1\n",
      "8 C:\\Users\\Kyaw Naing Win\\Desktop\\Articles_word_count\\Land  Water.txt 1\n",
      "9 C:\\Users\\Kyaw Naing Win\\Desktop\\Articles_word_count\\Natural Color.txt 1\n",
      "10 C:\\Users\\Kyaw Naing Win\\Desktop\\Articles_word_count\\Natural Color_Pansharpen.txt 1\n",
      "11 C:\\Users\\Kyaw Naing Win\\Desktop\\Articles_word_count\\NDMI (Normalized Difference Moistur.txt 2\n",
      "12 C:\\Users\\Kyaw Naing Win\\Desktop\\Articles_word_count\\NDSI.txt 1\n",
      "13 C:\\Users\\Kyaw Naing Win\\Desktop\\Articles_word_count\\NDVI Normalized Difference Vegetati.txt 2\n",
      "14 C:\\Users\\Kyaw Naing Win\\Desktop\\Articles_word_count\\Normalized Difference Water Index.txt 1\n",
      "15 C:\\Users\\Kyaw Naing Win\\Desktop\\Articles_word_count\\Panchromatic And Pansharpened Satel.txt 2\n",
      "16 C:\\Users\\Kyaw Naing Win\\Desktop\\Articles_word_count\\Shortwave Infrared.txt 1\n",
      "17 C:\\Users\\Kyaw Naing Win\\Desktop\\Articles_word_count\\Snow  Cloud.txt 1\n",
      "18 C:\\Users\\Kyaw Naing Win\\Desktop\\Articles_word_count\\Thermal Infrared 1.txt 1\n",
      "19 C:\\Users\\Kyaw Naing Win\\Desktop\\Articles_word_count\\Thermal Infrared 2.txt 1\n",
      "20 C:\\Users\\Kyaw Naing Win\\Desktop\\Articles_word_count\\Thermal.txt 1\n",
      "21 C:\\Users\\Kyaw Naing Win\\Desktop\\Articles_word_count\\Vegetation Analysis.txt 1\n",
      "total pages:  27\n"
     ]
    }
   ],
   "source": [
    "# count words\n",
    "files = list_files(r\"C:\\Users\\Kyaw Naing Win\\Desktop\\Articles_word_count\", file_type = \"txt\") \n",
    "counter = 1\n",
    "pages = 0\n",
    "for fname in files:\n",
    "    #print(fname)\n",
    "    with open(fname, 'r') as f:\n",
    "        num_lines = 0\n",
    "        num_words = 0\n",
    "        num_chars = 0\n",
    "        try:\n",
    "            for line in f:\n",
    "                words = line.split()\n",
    "\n",
    "                num_lines += 1\n",
    "                num_words += len(words)\n",
    "                num_chars += len(line)\n",
    "        except:\n",
    "            num_lines += 1\n",
    "            num_words += 1\n",
    "            continue\n",
    "            \n",
    "        print (counter,fname,ceil(num_words/550))\n",
    "        pages += ceil(num_words/550)\n",
    "        counter += 1\n",
    "print (\"total pages: \",pages)"
   ]
  },
  {
   "cell_type": "code",
   "execution_count": 29,
   "id": "57e588ad-d965-4623-aeef-467dec551a9f",
   "metadata": {
    "tags": []
   },
   "outputs": [
    {
     "data": {
      "text/plain": [
       "['C:\\\\Users\\\\Kyaw Naing Win\\\\Desktop\\\\Articles_word_count\\\\Agriculture Band Combinations — Ove.txt',\n",
       " 'C:\\\\Users\\\\Kyaw Naing Win\\\\Desktop\\\\Articles_word_count\\\\Atmospheric Removal.txt',\n",
       " 'C:\\\\Users\\\\Kyaw Naing Win\\\\Desktop\\\\Articles_word_count\\\\Band Combination SWIR 2, SWIR 1, NI.txt',\n",
       " 'C:\\\\Users\\\\Kyaw Naing Win\\\\Desktop\\\\Articles_word_count\\\\Chlorophyll Index In Agriculture.txt',\n",
       " 'C:\\\\Users\\\\Kyaw Naing Win\\\\Desktop\\\\Articles_word_count\\\\Color Infrared (Vegetation).txt',\n",
       " 'C:\\\\Users\\\\Kyaw Naing Win\\\\Desktop\\\\Articles_word_count\\\\False Color Satellite Imagery.txt',\n",
       " 'C:\\\\Users\\\\Kyaw Naing Win\\\\Desktop\\\\Articles_word_count\\\\Index Stack (NDVI, NDWI, NDSI).txt',\n",
       " 'C:\\\\Users\\\\Kyaw Naing Win\\\\Desktop\\\\Articles_word_count\\\\Land  Water.txt',\n",
       " 'C:\\\\Users\\\\Kyaw Naing Win\\\\Desktop\\\\Articles_word_count\\\\Natural Color.txt',\n",
       " 'C:\\\\Users\\\\Kyaw Naing Win\\\\Desktop\\\\Articles_word_count\\\\Natural Color_Pansharpen.txt',\n",
       " 'C:\\\\Users\\\\Kyaw Naing Win\\\\Desktop\\\\Articles_word_count\\\\NDMI (Normalized Difference Moistur.txt',\n",
       " 'C:\\\\Users\\\\Kyaw Naing Win\\\\Desktop\\\\Articles_word_count\\\\NDSI.txt',\n",
       " 'C:\\\\Users\\\\Kyaw Naing Win\\\\Desktop\\\\Articles_word_count\\\\NDVI Normalized Difference Vegetati.txt',\n",
       " 'C:\\\\Users\\\\Kyaw Naing Win\\\\Desktop\\\\Articles_word_count\\\\Normalized Difference Water Index.txt',\n",
       " 'C:\\\\Users\\\\Kyaw Naing Win\\\\Desktop\\\\Articles_word_count\\\\Panchromatic And Pansharpened Satel.txt',\n",
       " 'C:\\\\Users\\\\Kyaw Naing Win\\\\Desktop\\\\Articles_word_count\\\\Shortwave Infrared.txt',\n",
       " 'C:\\\\Users\\\\Kyaw Naing Win\\\\Desktop\\\\Articles_word_count\\\\Snow  Cloud.txt',\n",
       " 'C:\\\\Users\\\\Kyaw Naing Win\\\\Desktop\\\\Articles_word_count\\\\Thermal Infrared 1.txt',\n",
       " 'C:\\\\Users\\\\Kyaw Naing Win\\\\Desktop\\\\Articles_word_count\\\\Thermal Infrared 2.txt',\n",
       " 'C:\\\\Users\\\\Kyaw Naing Win\\\\Desktop\\\\Articles_word_count\\\\Thermal.txt',\n",
       " 'C:\\\\Users\\\\Kyaw Naing Win\\\\Desktop\\\\Articles_word_count\\\\Vegetation Analysis.txt']"
      ]
     },
     "execution_count": 29,
     "metadata": {},
     "output_type": "execute_result"
    }
   ],
   "source": [
    "files"
   ]
  },
  {
   "cell_type": "code",
   "execution_count": 15,
   "id": "28f92a2d-2b48-40b6-866f-8187dbcc03bd",
   "metadata": {
    "tags": []
   },
   "outputs": [
    {
     "data": {
      "text/plain": [
       "['word1', 'word2', 'w3']"
      ]
     },
     "execution_count": 15,
     "metadata": {},
     "output_type": "execute_result"
    }
   ],
   "source": []
  },
  {
   "cell_type": "code",
   "execution_count": null,
   "id": "c51249c3-16d0-412f-9788-a36ab992a089",
   "metadata": {},
   "outputs": [],
   "source": []
  }
 ],
 "metadata": {
  "kernelspec": {
   "display_name": "DataScience_PY311",
   "language": "python",
   "name": "ds_py311"
  },
  "language_info": {
   "codemirror_mode": {
    "name": "ipython",
    "version": 3
   },
   "file_extension": ".py",
   "mimetype": "text/x-python",
   "name": "python",
   "nbconvert_exporter": "python",
   "pygments_lexer": "ipython3",
   "version": "3.11.3"
  }
 },
 "nbformat": 4,
 "nbformat_minor": 5
}
