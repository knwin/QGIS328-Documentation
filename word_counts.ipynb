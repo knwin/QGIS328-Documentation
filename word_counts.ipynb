{
 "cells": [
  {
   "cell_type": "markdown",
   "id": "a9f2ef07-4766-41b4-8aa3-3e2a7cf8edbe",
   "metadata": {
    "tags": []
   },
   "source": [
    "# word counting"
   ]
  },
  {
   "cell_type": "code",
   "execution_count": 50,
   "id": "13752e25-ae01-4369-9fe4-fc95ea7d2452",
   "metadata": {
    "tags": []
   },
   "outputs": [],
   "source": [
    "import os, re\n",
    "from math import ceil"
   ]
  },
  {
   "cell_type": "code",
   "execution_count": 51,
   "id": "fbba03d0-e9c1-456f-a3a7-6620153c07cd",
   "metadata": {
    "tags": []
   },
   "outputs": [],
   "source": [
    "def list_files(pdir, file_type = \"\"):                                                                                                  \n",
    "    r = []                                           \n",
    "    subdirs = [x[0] for x in os.walk(pdir)]\n",
    "    for subdir in subdirs:              \n",
    "        files = next(os.walk(subdir))[2]                  \n",
    "        if (len(files) > 0):                                                        \n",
    "            for file in files:\n",
    "                if (len(file_type)):\n",
    "                    file_ext = \".\" + file_type\n",
    "                    if file.endswith(file_ext.lower()) or file.endswith(file_ext.upper())  :            \n",
    "                        r.append(subdir+ '\\\\' + file)\n",
    "                else:\n",
    "                    r.append(subdir+ '\\\\' + file)\n",
    "                    \n",
    "    return r"
   ]
  },
  {
   "cell_type": "code",
   "execution_count": 58,
   "id": "46d3968b-7125-4ca4-877d-d6382efdc8bc",
   "metadata": {
    "tags": []
   },
   "outputs": [],
   "source": [
    "files = list_files(\"docs\\\\user_manual\", file_type = \"rst\") \n"
   ]
  },
  {
   "cell_type": "raw",
   "id": "630c93da-8a2f-480e-9c33-573be3ebb627",
   "metadata": {
    "tags": []
   },
   "source": [
    "# count words\n",
    "\n",
    "fname = files[0]\n",
    "\n",
    "num_lines = 0\n",
    "num_words = 0\n",
    "num_chars = 0\n",
    "for fname in files:\n",
    "    with open(fname, 'r') as f:\n",
    "        for line in f:\n",
    "            if line.startswith(\".. _\"):\n",
    "                continue\n",
    "            if line.startswith(\"   .. \"):\n",
    "                continue\n",
    "            if line.startswith(\"      :\"):\n",
    "                continue\n",
    "            if line.startswith(\"****\"):\n",
    "                continue\n",
    "            if line.startswith(\"----\"):\n",
    "                continue\n",
    "            if line.startswith(\"=====\"):\n",
    "                continue\n",
    "\n",
    "            if line.startswith(\":\"):\n",
    "                continue\n",
    "\n",
    "            words = line.split()\n",
    "\n",
    "            num_lines += 1\n",
    "            num_words += len(words)\n",
    "            num_chars += len(line)"
   ]
  },
  {
   "cell_type": "code",
   "execution_count": 60,
   "id": "77022a52-1642-4527-84a8-670e71871c53",
   "metadata": {
    "tags": []
   },
   "outputs": [
    {
     "name": "stdout",
     "output_type": "stream",
     "text": [
      "1 docs\\user_manual\\index.rst 45 / 1\n",
      "2 docs\\user_manual\\appendices\\GNU_FDL.rst 3701 / 8\n",
      "3 docs\\user_manual\\appendices\\GNU_GPL.rst 2624 / 6\n",
      "4 docs\\user_manual\\appendices\\index.rst 14 / 1\n",
      "5 docs\\user_manual\\appendices\\qgis_desktop_network_connections.rst 405 / 1\n",
      "6 docs\\user_manual\\appendices\\qgis_file_formats.rst 486 / 1\n",
      "7 docs\\user_manual\\appendices\\qgis_r_syntax.rst 1330 / 3\n",
      "8 docs\\user_manual\\auth_system\\auth_considerations.rst 481 / 1\n",
      "9 docs\\user_manual\\auth_system\\auth_overview.rst 1464 / 3\n",
      "10 docs\\user_manual\\auth_system\\auth_workflows.rst 2082 / 5\n",
      "11 docs\\user_manual\\auth_system\\index.rst 13 / 1\n",
      "12 docs\\user_manual\\expressions\\functions_list.rst 4514 / 10\n",
      "13 docs\\user_manual\\expressions\\index.rst 14 / 1\n",
      "14 docs\\user_manual\\expressions\\expression_help\\Aggregates.rst 2634 / 6\n",
      "15 docs\\user_manual\\expressions\\expression_help\\Arrays.rst 2800 / 6\n",
      "16 docs\\user_manual\\expressions\\expression_help\\Color.rst 1813 / 4\n",
      "17 docs\\user_manual\\expressions\\expression_help\\Conversions.rst 1332 / 3\n",
      "18 docs\\user_manual\\expressions\\expression_help\\Date_and_Time.rst 2471 / 5\n",
      "19 docs\\user_manual\\expressions\\expression_help\\Fields_and_Values.rst 81 / 1\n",
      "20 docs\\user_manual\\expressions\\expression_help\\Files_and_Paths.rst 663 / 2\n",
      "21 docs\\user_manual\\expressions\\expression_help\\Form.rst 263 / 1\n",
      "22 docs\\user_manual\\expressions\\expression_help\\Fuzzy_Matching.rst 386 / 1\n",
      "23 docs\\user_manual\\expressions\\expression_help\\General.rst 516 / 2\n",
      "24 docs\\user_manual\\expressions\\expression_help\\GeometryGroup.rst 16971 / 34\n",
      "25 docs\\user_manual\\expressions\\expression_help\\Layout.rst 287 / 1\n",
      "26 docs\\user_manual\\expressions\\expression_help\\Maps.rst 920 / 2\n",
      "27 docs\\user_manual\\expressions\\expression_help\\Map_Layers.rst 414 / 1\n",
      "28 docs\\user_manual\\expressions\\expression_help\\Math.rst 2003 / 5\n",
      "29 docs\\user_manual\\expressions\\expression_help\\Meshes.rst 314 / 1\n",
      "30 docs\\user_manual\\expressions\\expression_help\\Operators.rst 2102 / 5\n",
      "31 docs\\user_manual\\expressions\\expression_help\\Processing.rst 81 / 1\n",
      "32 docs\\user_manual\\expressions\\expression_help\\Rasters.rst 344 / 1\n",
      "33 docs\\user_manual\\expressions\\expression_help\\Record_and_Attributes.rst 2716 / 6\n",
      "34 docs\\user_manual\\expressions\\expression_help\\Sensors.rst 104 / 1\n",
      "35 docs\\user_manual\\grass_integration\\grass_integration.rst 6191 / 13\n",
      "36 docs\\user_manual\\introduction\\browser.rst 2684 / 6\n",
      "37 docs\\user_manual\\introduction\\general_tools.rst 13737 / 28\n",
      "38 docs\\user_manual\\introduction\\getting_started.rst 1537 / 4\n",
      "39 docs\\user_manual\\introduction\\project_files.rst 1266 / 3\n",
      "40 docs\\user_manual\\introduction\\qgis_configuration.rst 13763 / 28\n",
      "41 docs\\user_manual\\introduction\\qgis_gui.rst 8351 / 17\n",
      "42 docs\\user_manual\\literature_web\\literature_and_web_references.rst 68 / 1\n",
      "43 docs\\user_manual\\managing_data_source\\create_layers.rst 4332 / 9\n",
      "44 docs\\user_manual\\managing_data_source\\index.rst 14 / 1\n",
      "45 docs\\user_manual\\managing_data_source\\supported_data.rst 3833 / 8\n",
      "46 docs\\user_manual\\map_views\\3d_map_view.rst 2810 / 6\n",
      "47 docs\\user_manual\\map_views\\elevation_profile.rst 1828 / 4\n",
      "48 docs\\user_manual\\map_views\\index.rst 79 / 1\n",
      "49 docs\\user_manual\\plugins\\index.rst 12 / 1\n",
      "50 docs\\user_manual\\plugins\\plugins.rst 1264 / 3\n",
      "51 docs\\user_manual\\plugins\\python_console.rst 766 / 2\n",
      "52 docs\\user_manual\\plugins\\core_plugins\\index.rst 281 / 1\n",
      "53 docs\\user_manual\\plugins\\core_plugins\\plugins_db_manager.rst 612 / 2\n",
      "54 docs\\user_manual\\plugins\\core_plugins\\plugins_geometry_checker.rst 900 / 2\n",
      "55 docs\\user_manual\\plugins\\core_plugins\\plugins_metasearch.rst 1134 / 3\n",
      "56 docs\\user_manual\\plugins\\core_plugins\\plugins_offline_editing.rst 471 / 1\n",
      "57 docs\\user_manual\\plugins\\core_plugins\\plugins_topology_checker.rst 698 / 2\n",
      "58 docs\\user_manual\\preamble\\conventions.rst 547 / 2\n",
      "59 docs\\user_manual\\preamble\\features.rst 1154 / 3\n",
      "60 docs\\user_manual\\preamble\\foreword.rst 307 / 1\n",
      "61 docs\\user_manual\\preamble\\help_and_support.rst 714 / 2\n",
      "62 docs\\user_manual\\preamble\\preamble.rst 333 / 1\n",
      "63 docs\\user_manual\\preamble\\translation_stats.rst 590 / 2\n",
      "64 docs\\user_manual\\print_composer\\create_output.rst 3756 / 8\n",
      "65 docs\\user_manual\\print_composer\\create_reports.rst 2070 / 5\n",
      "66 docs\\user_manual\\print_composer\\index.rst 47 / 1\n",
      "67 docs\\user_manual\\print_composer\\overview_composer.rst 5298 / 11\n",
      "68 docs\\user_manual\\print_composer\\composer_items\\composer_html_frame.rst 898 / 2\n",
      "69 docs\\user_manual\\print_composer\\composer_items\\composer_image.rst 1156 / 3\n",
      "70 docs\\user_manual\\print_composer\\composer_items\\composer_items_options.rst 2073 / 5\n",
      "71 docs\\user_manual\\print_composer\\composer_items\\composer_label.rst 1025 / 3\n",
      "72 docs\\user_manual\\print_composer\\composer_items\\composer_legend.rst 1792 / 4\n",
      "73 docs\\user_manual\\print_composer\\composer_items\\composer_map.rst 2987 / 6\n",
      "74 docs\\user_manual\\print_composer\\composer_items\\composer_map3d.rst 354 / 1\n",
      "75 docs\\user_manual\\print_composer\\composer_items\\composer_scale_bar.rst 1054 / 3\n",
      "76 docs\\user_manual\\print_composer\\composer_items\\composer_shapes.rst 931 / 2\n",
      "77 docs\\user_manual\\print_composer\\composer_items\\composer_tables.rst 2428 / 5\n",
      "78 docs\\user_manual\\print_composer\\composer_items\\index.rst 30 / 1\n",
      "79 docs\\user_manual\\print_composer\\composer_items\\layout_elevation_profile.rst 548 / 2\n",
      "80 docs\\user_manual\\processing\\3rdParty.rst 4095 / 9\n",
      "81 docs\\user_manual\\processing\\batch.rst 1200 / 3\n",
      "82 docs\\user_manual\\processing\\configuration.rst 1161 / 3\n",
      "83 docs\\user_manual\\processing\\console.rst 2891 / 6\n",
      "84 docs\\user_manual\\processing\\history.rst 496 / 1\n",
      "85 docs\\user_manual\\processing\\index.rst 21 / 1\n",
      "86 docs\\user_manual\\processing\\intro.rst 431 / 1\n",
      "87 docs\\user_manual\\processing\\modeler.rst 4198 / 9\n",
      "88 docs\\user_manual\\processing\\scripts.rst 2874 / 6\n",
      "89 docs\\user_manual\\processing\\standalone.rst 666 / 2\n",
      "90 docs\\user_manual\\processing\\toolbox.rst 3389 / 7\n",
      "91 docs\\user_manual\\processing_algs\\algs_include.rst 1265 / 3\n",
      "92 docs\\user_manual\\processing_algs\\index.rst 29 / 1\n",
      "93 docs\\user_manual\\processing_algs\\otb.rst 45 / 1\n",
      "94 docs\\user_manual\\processing_algs\\gdal\\index.rst 52 / 1\n",
      "95 docs\\user_manual\\processing_algs\\gdal\\rasteranalysis.rst 7157 / 15\n",
      "96 docs\\user_manual\\processing_algs\\gdal\\rasterconversion.rst 1642 / 4\n",
      "97 docs\\user_manual\\processing_algs\\gdal\\rasterextraction.rst 1748 / 4\n",
      "98 docs\\user_manual\\processing_algs\\gdal\\rastermiscellaneous.rst 4421 / 9\n",
      "99 docs\\user_manual\\processing_algs\\gdal\\rasterprojections.rst 966 / 2\n",
      "100 docs\\user_manual\\processing_algs\\gdal\\vectorconversion.rst 1386 / 3\n",
      "101 docs\\user_manual\\processing_algs\\gdal\\vectorgeoprocessing.rst 1898 / 4\n",
      "102 docs\\user_manual\\processing_algs\\gdal\\vectormiscellaneous.rst 2760 / 6\n",
      "103 docs\\user_manual\\processing_algs\\qgis\\cartography.rst 5098 / 11\n",
      "104 docs\\user_manual\\processing_algs\\qgis\\database.rst 1969 / 4\n",
      "105 docs\\user_manual\\processing_algs\\qgis\\filetools.rst 227 / 1\n",
      "106 docs\\user_manual\\processing_algs\\qgis\\gps.rst 766 / 2\n",
      "107 docs\\user_manual\\processing_algs\\qgis\\index.rst 77 / 1\n",
      "108 docs\\user_manual\\processing_algs\\qgis\\layertools.rst 631 / 2\n",
      "109 docs\\user_manual\\processing_algs\\qgis\\mesh.rst 2700 / 6\n",
      "110 docs\\user_manual\\processing_algs\\qgis\\modelertools.rst 1737 / 4\n",
      "111 docs\\user_manual\\processing_algs\\qgis\\networkanalysis.rst 1986 / 4\n",
      "112 docs\\user_manual\\processing_algs\\qgis\\plots.rst 1486 / 3\n",
      "113 docs\\user_manual\\processing_algs\\qgis\\rasteranalysis.rst 12259 / 25\n",
      "114 docs\\user_manual\\processing_algs\\qgis\\rastercreation.rst 3096 / 7\n",
      "115 docs\\user_manual\\processing_algs\\qgis\\vectoranalysis.rst 5794 / 12\n",
      "116 docs\\user_manual\\processing_algs\\qgis\\vectorcreation.rst 5543 / 12\n",
      "117 docs\\user_manual\\processing_algs\\qgis\\vectorgeneral.rst 7974 / 16\n",
      "118 docs\\user_manual\\processing_algs\\qgis\\vectorgeometry.rst 21525 / 44\n",
      "119 docs\\user_manual\\processing_algs\\qgis\\vectoroverlay.rst 3934 / 8\n",
      "120 docs\\user_manual\\processing_algs\\qgis\\vectorselection.rst 3252 / 7\n",
      "121 docs\\user_manual\\processing_algs\\qgis\\vectortable.rst 3611 / 8\n",
      "122 docs\\user_manual\\processing_algs\\qgis\\vectortiles.rst 937 / 2\n",
      "123 docs\\user_manual\\style_library\\3d_symbols.rst 1162 / 3\n",
      "124 docs\\user_manual\\style_library\\index.rst 15 / 1\n",
      "125 docs\\user_manual\\style_library\\label_settings.rst 5624 / 12\n",
      "126 docs\\user_manual\\style_library\\style_manager.rst 2405 / 5\n",
      "127 docs\\user_manual\\style_library\\symbol_selector.rst 4736 / 10\n",
      "128 docs\\user_manual\\working_with_gps\\index.rst 14 / 1\n",
      "129 docs\\user_manual\\working_with_gps\\live_GPS_tracking.rst 1228 / 3\n",
      "130 docs\\user_manual\\working_with_gps\\plugins_gps.rst 553 / 2\n",
      "131 docs\\user_manual\\working_with_mesh\\mesh_properties.rst 7173 / 15\n",
      "132 docs\\user_manual\\working_with_ogc\\ogc_client_support.rst 4877 / 10\n",
      "133 docs\\user_manual\\working_with_point_clouds\\point_clouds.rst 4046 / 9\n",
      "134 docs\\user_manual\\working_with_projections\\working_with_projections.rst 2943 / 6\n",
      "135 docs\\user_manual\\working_with_raster\\georeferencer.rst 2082 / 5\n",
      "136 docs\\user_manual\\working_with_raster\\index.rst 15 / 1\n",
      "137 docs\\user_manual\\working_with_raster\\raster_analysis.rst 1016 / 3\n",
      "138 docs\\user_manual\\working_with_raster\\raster_properties.rst 4772 / 10\n",
      "139 docs\\user_manual\\working_with_vector\\attribute_table.rst 8663 / 18\n",
      "140 docs\\user_manual\\working_with_vector\\editing_geometry_attributes.rst 13503 / 28\n",
      "141 docs\\user_manual\\working_with_vector\\index.rst 15 / 1\n",
      "142 docs\\user_manual\\working_with_vector_tiles\\vector_tiles_properties.rst 616 / 2\n"
     ]
    }
   ],
   "source": [
    "# count words\n",
    "#files = list_files(r\"C:\\Users\\Kyaw Naing Win\\Desktop\\Articles_word_count\", file_type = \"txt\") \n",
    "counter = 1\n",
    "pages = 0\n",
    "for fname in files:\n",
    "    #print(fname)\n",
    "    with open(fname, 'r') as f:\n",
    "        num_lines = 0\n",
    "        num_words = 0\n",
    "        num_chars = 0\n",
    "        try:\n",
    "            for line in f:\n",
    "                words = line.split()\n",
    "\n",
    "                num_lines += 1\n",
    "                num_words += len(words)\n",
    "                num_chars += len(line)\n",
    "        except:\n",
    "            num_lines += 1\n",
    "            num_words += 1\n",
    "            continue\n",
    "            \n",
    "        print (counter,fname,num_words,\"/\",ceil(num_words/500))\n",
    "        pages += ceil(num_words/550)\n",
    "        counter += 1\n",
    "#print (\"total pages: \",pages)"
   ]
  },
  {
   "cell_type": "code",
   "execution_count": 49,
   "id": "ba00c8eb-ad13-49ac-8134-21a3d912b2ae",
   "metadata": {
    "tags": []
   },
   "outputs": [],
   "source": [
    "# count words\n",
    "def count_words(fname):\n",
    "    #counter = 1\n",
    "    #pages = 0\n",
    "\n",
    "    with open(fname, 'r') as f:\n",
    "        num_lines = 0\n",
    "        num_words = 0\n",
    "        num_chars = 0\n",
    "        try:\n",
    "            for line in f:\n",
    "                words = line.split()\n",
    "\n",
    "                num_lines += 1\n",
    "                num_words += len(words)\n",
    "                num_chars += len(line)\n",
    "        except:\n",
    "            num_lines += 1\n",
    "            num_words += 1\n",
    "\n",
    "            \n",
    "        print (counter,fname,num_words,\"/\",ceil(num_words/500))\n",
    "        #pages += ceil(num_words/550)\n",
    "        #counter += 1\n",
    "#print (\"total pages: \",pages)"
   ]
  },
  {
   "cell_type": "code",
   "execution_count": 2,
   "id": "b0c15c37-1ebf-4bce-b025-fca83aab7ca9",
   "metadata": {
    "tags": []
   },
   "outputs": [],
   "source": [
    "def word_count_files(pdir, file_type = \"\"):                                                                                                  \n",
    "    r = []                                           \n",
    "    subdirs = [x[0] for x in os.walk(pdir)]\n",
    "    for subdir in subdirs:\n",
    "        print(subdir)\n",
    "        files = next(os.walk(subdir))[2]                  \n",
    "        if (len(files) > 0):                                                        \n",
    "            for file in files:\n",
    "                if (len(file_type)):\n",
    "                    file_ext = \".\" + file_type\n",
    "                    if file.endswith(file_ext.lower()) or file.endswith(file_ext.upper())  :            \n",
    "                        fname = subdir+ '\\\\' + file\n",
    "                else:\n",
    "                    fname = subdir + '\\\\' + file\n",
    "                    \n",
    "    return r"
   ]
  },
  {
   "cell_type": "code",
   "execution_count": 15,
   "id": "28f92a2d-2b48-40b6-866f-8187dbcc03bd",
   "metadata": {
    "tags": []
   },
   "outputs": [
    {
     "data": {
      "text/plain": [
       "['word1', 'word2', 'w3']"
      ]
     },
     "execution_count": 15,
     "metadata": {},
     "output_type": "execute_result"
    }
   ],
   "source": []
  },
  {
   "cell_type": "code",
   "execution_count": null,
   "id": "c51249c3-16d0-412f-9788-a36ab992a089",
   "metadata": {},
   "outputs": [],
   "source": []
  }
 ],
 "metadata": {
  "kernelspec": {
   "display_name": "DataScience_PY311",
   "language": "python",
   "name": "ds_py311"
  },
  "language_info": {
   "codemirror_mode": {
    "name": "ipython",
    "version": 3
   },
   "file_extension": ".py",
   "mimetype": "text/x-python",
   "name": "python",
   "nbconvert_exporter": "python",
   "pygments_lexer": "ipython3",
   "version": "3.11.3"
  }
 },
 "nbformat": 4,
 "nbformat_minor": 5
}
